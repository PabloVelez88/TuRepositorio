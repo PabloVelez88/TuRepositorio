{
 "cells": [
  {
   "cell_type": "code",
   "execution_count": 1,
   "id": "3ad1e572-ce20-4de0-acd0-370d5ce23429",
   "metadata": {},
   "outputs": [
    {
     "name": "stdout",
     "output_type": "stream",
     "text": [
      "HolaMundo\n"
     ]
    }
   ],
   "source": [
    "print('HolaMundo')\n",
    "\n",
    "print('PruebaGit')\n",
    "\n",
    "\n",
    "\n",
    "\n",
    "\n",
    "\n",
    "\n",
    "\n",
    "\n",
    "\n",
    "\n"
   ]
  },
  {
   "cell_type": "markdown",
   "id": "4422855a-e7dc-45c2-921f-0ae06ec2b78a",
   "metadata": {},
   "source": [
    "Realiza un ciclo para depurar datos"
   ]
  },
  {
   "cell_type": "code",
   "execution_count": null,
   "id": "73a34c57-6d45-4130-92f0-a1ebbe0c9836",
   "metadata": {},
   "outputs": [],
   "source": []
  }
 ],
 "metadata": {
  "kernelspec": {
   "display_name": "Python 3 (ipykernel)",
   "language": "python",
   "name": "python3"
  },
  "language_info": {
   "codemirror_mode": {
    "name": "ipython",
    "version": 3
   },
   "file_extension": ".py",
   "mimetype": "text/x-python",
   "name": "python",
   "nbconvert_exporter": "python",
   "pygments_lexer": "ipython3",
   "version": "3.12.7"
  }
 },
 "nbformat": 4,
 "nbformat_minor": 5
}
